{
 "cells": [
  {
   "cell_type": "markdown",
   "metadata": {},
   "source": [
    "# K를 고정하고 N 변화시킨 Graph\n",
    "## K = 10000 으로 고정 N값 변화 ( 파란선)\n",
    "## N = 10000 으로 고정후 K값 변화 (주황점선)\n",
    "## 개선후 K = 10000 으로 고정 N값 변화 (초록선)\n",
    "## 개선전 N = 10000 으로 고정후 K값 변화 (빨간점선)"
   ]
  },
  {
   "cell_type": "code",
   "execution_count": null,
   "metadata": {},
   "outputs": [],
   "source": [
    "import matplotlib.pyplot as plt\n",
    "import pandas as pd\n",
    "\n",
    "n = [100, 200, 400, 800, 1600, 3200, 6400, 12800, 25600, 51200]\n",
    "k_10000 = [6, 10, 10, 13, 22, 30, 48, 114, 132, 302]\n",
    "k_10000_seg = [8, 10, 10, 10, 11, 12, 12, 11, 12, 13]\n",
    "\n",
    "k = [100, 200, 400, 800, 1600, 3200, 6400, 12800, 25600, 51200]\n",
    "n_10000 = [6, 8, 9, 16, 20, 32, 55, 105, 142, 302]\n",
    "n_10000_seg = [3, 4, 4, 4, 6, 7, 10, 14, 21, 34]\n",
    "\n",
    "\n",
    "fig = plt.figure(figsize=(10,10))\n",
    "plt.plot(n, k_10000, k, n_10000,'--', n, k_10000_seg, k, n_10000_seg, '--')\n",
    "\n",
    "plt.legend(['k = 10000', 'n = 10000', 'Seg k = 10000', 'Seg n = 10000'], fontsize = 'xx-large')\n",
    "plt.show()"
   ]
  },
  {
   "cell_type": "code",
   "execution_count": null,
   "metadata": {},
   "outputs": [],
   "source": [
    "k고정 = pd.DataFrame({'N': n,\n",
    "                    '기존':k_10000,\n",
    "                    '개선':k_10000_seg})\n",
    "k고정"
   ]
  },
  {
   "cell_type": "code",
   "execution_count": null,
   "metadata": {},
   "outputs": [],
   "source": [
    "n고정 = pd.DataFrame({'K': k,\n",
    "                    '기존':n_10000,\n",
    "                    '개선':n_10000_seg})\n",
    "n고정"
   ]
  },
  {
   "cell_type": "code",
   "execution_count": null,
   "metadata": {},
   "outputs": [],
   "source": [
    "fig = plt.figure(figsize=(10,10))\n",
    "plt.plot(n, k_10000_seg, k, n_10000_seg, '--')\n",
    "plt.legend(['Seg k = 10000', 'Seg n = 10000'], fontsize = 'xx-large')\n",
    "plt.show()"
   ]
  },
  {
   "cell_type": "code",
   "execution_count": null,
   "metadata": {},
   "outputs": [],
   "source": [
    "fig = plt.figure(figsize=(10,10))\n",
    "plt.plot(n, k_10000, k, n_10000, '--')\n",
    "plt.legend(['k = 10000', 'n = 10000'], fontsize = 'xx-large')\n",
    "plt.show()"
   ]
  }
 ],
 "metadata": {
  "kernelspec": {
   "display_name": "Python 3",
   "language": "python",
   "name": "python3"
  },
  "language_info": {
   "codemirror_mode": {
    "name": "ipython",
    "version": 3
   },
   "file_extension": ".py",
   "mimetype": "text/x-python",
   "name": "python",
   "nbconvert_exporter": "python",
   "pygments_lexer": "ipython3",
   "version": "3.7.7"
  }
 },
 "nbformat": 4,
 "nbformat_minor": 4
}
